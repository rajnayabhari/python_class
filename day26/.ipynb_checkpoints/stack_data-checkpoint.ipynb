{
 "cells": [
  {
   "cell_type": "raw",
   "source": [],
   "metadata": {
    "collapsed": false
   },
   "id": "dee99a3986f6cb86"
  }
 ],
 "metadata": {},
 "nbformat": 4,
 "nbformat_minor": 5
}
